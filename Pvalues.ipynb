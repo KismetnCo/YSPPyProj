{
 "cells": [
  {
   "cell_type": "code",
   "execution_count": 1,
   "id": "6168e4e3",
   "metadata": {},
   "outputs": [],
   "source": [
    "from statsmodels.stats.proportion import proportions_ztest"
   ]
  },
  {
   "cell_type": "code",
   "execution_count": 8,
   "id": "e84cf3f1",
   "metadata": {},
   "outputs": [
    {
     "name": "stdout",
     "output_type": "stream",
     "text": [
      "[(2.2231412835527595, 0.026206274629240873), (24.103069090415698, 2.3211845363159394e-128), (-4.9722578857392845, 6.617759254064372e-07), (17.94847315385612, 4.932794078458894e-72), (-99.22337053754832, 0.0), (18.982198767790926, 2.393658957461752e-80), (-54.579078849855, 0.0)]\n"
     ]
    }
   ],
   "source": [
    "pvalues = []\n",
    "#AH-I+P\n",
    "pvalues.append(proportions_ztest(count=25139, nobs=(25139+24643), value=0.50))\n",
    "#AH-CLRD\n",
    "pvalues.append(proportions_ztest(count=83253, nobs=(83253+73721), value=0.50))\n",
    "#AH-ORD\n",
    "pvalues.append(proportions_ztest(count=21533, nobs=(21533+22577), value=0.50))\n",
    "#AH-All\n",
    "pvalues.append(proportions_ztest(count=129925, nobs=(129925+120941), value=0.50))\n",
    "\n",
    "#NY-I+P\n",
    "pvalues.append(proportions_ztest(count=14620, nobs=(14620+34751), value=0.50))\n",
    "#NY-CLRD\n",
    "pvalues.append(proportions_ztest(count=23020, nobs=(23020+19139), value=0.50))\n",
    "#NY-All\n",
    "pvalues.append(proportions_ztest(count=37640, nobs=(37640+53890), value=0.50))\n",
    "\n",
    "\n",
    "print(pvalues)"
   ]
  },
  {
   "cell_type": "code",
   "execution_count": 10,
   "id": "e096eab6",
   "metadata": {},
   "outputs": [],
   "source": []
  },
  {
   "cell_type": "code",
   "execution_count": null,
   "id": "cecd8482",
   "metadata": {},
   "outputs": [],
   "source": []
  }
 ],
 "metadata": {
  "kernelspec": {
   "display_name": "Python 3 (ipykernel)",
   "language": "python",
   "name": "python3"
  },
  "language_info": {
   "codemirror_mode": {
    "name": "ipython",
    "version": 3
   },
   "file_extension": ".py",
   "mimetype": "text/x-python",
   "name": "python",
   "nbconvert_exporter": "python",
   "pygments_lexer": "ipython3",
   "version": "3.11.3"
  }
 },
 "nbformat": 4,
 "nbformat_minor": 5
}
