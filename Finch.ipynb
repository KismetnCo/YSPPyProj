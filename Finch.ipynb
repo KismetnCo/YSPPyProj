{
 "cells": [
  {
   "cell_type": "code",
   "execution_count": 12,
   "id": "26406b17-12b3-427b-9965-7b6a8ab0399e",
   "metadata": {},
   "outputs": [
    {
     "ename": "FileNotFoundError",
     "evalue": "[Errno 2] No such file or directory: 'C:/Python/pyb_data/AH_Monthly_Provisional_Counts_of_Deaths_for_Select_Causes_of_Death_by_Sex_Age_and_Race_and_Hispanic_Origin.csv'",
     "output_type": "error",
     "traceback": [
      "\u001b[1;31m---------------------------------------------------------------------------\u001b[0m",
      "\u001b[1;31mFileNotFoundError\u001b[0m                         Traceback (most recent call last)",
      "Cell \u001b[1;32mIn[12], line 6\u001b[0m\n\u001b[0;32m      4\u001b[0m \u001b[38;5;28;01mimport\u001b[39;00m \u001b[38;5;21;01mmatplotlib\u001b[39;00m\u001b[38;5;21;01m.\u001b[39;00m\u001b[38;5;21;01mpyplot\u001b[39;00m \u001b[38;5;28;01mas\u001b[39;00m \u001b[38;5;21;01mplt\u001b[39;00m\n\u001b[0;32m      5\u001b[0m \u001b[38;5;66;03m# now import data\u001b[39;00m\n\u001b[1;32m----> 6\u001b[0m ahData \u001b[38;5;241m=\u001b[39m \u001b[43mpd\u001b[49m\u001b[38;5;241;43m.\u001b[39;49m\u001b[43mread_csv\u001b[49m\u001b[43m(\u001b[49m\u001b[38;5;124;43m\"\u001b[39;49m\u001b[38;5;124;43mC:/Python/pyb_data/AH_Monthly_Provisional_Counts_of_Deaths_for_Select_Causes_of_Death_by_Sex_Age_and_Race_and_Hispanic_Origin.csv\u001b[39;49m\u001b[38;5;124;43m\"\u001b[39;49m\u001b[43m,\u001b[49m\u001b[43m \u001b[49m\u001b[43mdelimiter\u001b[49m\u001b[43m \u001b[49m\u001b[38;5;241;43m=\u001b[39;49m\u001b[43m \u001b[49m\u001b[38;5;124;43m\"\u001b[39;49m\u001b[38;5;124;43m,\u001b[39;49m\u001b[38;5;124;43m\"\u001b[39;49m\u001b[43m)\u001b[49m\n\u001b[0;32m      7\u001b[0m ccData \u001b[38;5;241m=\u001b[39m pd\u001b[38;5;241m.\u001b[39mread_csv(\u001b[38;5;124m\"\u001b[39m\u001b[38;5;124mC:/Python/pyb_data/New_York_Leading_Causes_of_Death.csv\u001b[39m\u001b[38;5;124m\"\u001b[39m, delimiter \u001b[38;5;241m=\u001b[39m \u001b[38;5;124m\"\u001b[39m\u001b[38;5;124m,\u001b[39m\u001b[38;5;124m\"\u001b[39m)\n\u001b[0;32m      9\u001b[0m \u001b[38;5;66;03m# NOTE: THIS WAS ORIGINALLY DONE IN A .py FILE- ALL DATA SETS ARE ON COMPUTER (it doesn't like me putting files in here)\u001b[39;00m\n\u001b[0;32m     10\u001b[0m \u001b[38;5;66;03m# IT SAYS THE FILES DONT EXIST BUT IT IS LYING\u001b[39;00m\n\u001b[0;32m     11\u001b[0m \u001b[38;5;66;03m# LINKS TO DATA ARE PROVIDED IN GITHUB REPOSITORY, REPASTED HERE\u001b[39;00m\n\u001b[0;32m     12\u001b[0m \u001b[38;5;66;03m# AHDATA: https://catalog.data.gov/dataset/AH_Monthly_Provisional_Counts_of_Deaths_for_Select_Causes_of_Death_by_Sex__Age__and_Race_and_Hispanic_Origin\u001b[39;00m\n\u001b[0;32m     13\u001b[0m \u001b[38;5;66;03m# NYDATA: https://catalog.data.gov/dataset/New_York_City_Leading_Causes_of_Death\u001b[39;00m\n",
      "File \u001b[1;32m~\\.julia\\conda\\3\\x86_64\\lib\\site-packages\\pandas\\io\\parsers\\readers.py:912\u001b[0m, in \u001b[0;36mread_csv\u001b[1;34m(filepath_or_buffer, sep, delimiter, header, names, index_col, usecols, dtype, engine, converters, true_values, false_values, skipinitialspace, skiprows, skipfooter, nrows, na_values, keep_default_na, na_filter, verbose, skip_blank_lines, parse_dates, infer_datetime_format, keep_date_col, date_parser, date_format, dayfirst, cache_dates, iterator, chunksize, compression, thousands, decimal, lineterminator, quotechar, quoting, doublequote, escapechar, comment, encoding, encoding_errors, dialect, on_bad_lines, delim_whitespace, low_memory, memory_map, float_precision, storage_options, dtype_backend)\u001b[0m\n\u001b[0;32m    899\u001b[0m kwds_defaults \u001b[38;5;241m=\u001b[39m _refine_defaults_read(\n\u001b[0;32m    900\u001b[0m     dialect,\n\u001b[0;32m    901\u001b[0m     delimiter,\n\u001b[1;32m   (...)\u001b[0m\n\u001b[0;32m    908\u001b[0m     dtype_backend\u001b[38;5;241m=\u001b[39mdtype_backend,\n\u001b[0;32m    909\u001b[0m )\n\u001b[0;32m    910\u001b[0m kwds\u001b[38;5;241m.\u001b[39mupdate(kwds_defaults)\n\u001b[1;32m--> 912\u001b[0m \u001b[38;5;28;01mreturn\u001b[39;00m \u001b[43m_read\u001b[49m\u001b[43m(\u001b[49m\u001b[43mfilepath_or_buffer\u001b[49m\u001b[43m,\u001b[49m\u001b[43m \u001b[49m\u001b[43mkwds\u001b[49m\u001b[43m)\u001b[49m\n",
      "File \u001b[1;32m~\\.julia\\conda\\3\\x86_64\\lib\\site-packages\\pandas\\io\\parsers\\readers.py:577\u001b[0m, in \u001b[0;36m_read\u001b[1;34m(filepath_or_buffer, kwds)\u001b[0m\n\u001b[0;32m    574\u001b[0m _validate_names(kwds\u001b[38;5;241m.\u001b[39mget(\u001b[38;5;124m\"\u001b[39m\u001b[38;5;124mnames\u001b[39m\u001b[38;5;124m\"\u001b[39m, \u001b[38;5;28;01mNone\u001b[39;00m))\n\u001b[0;32m    576\u001b[0m \u001b[38;5;66;03m# Create the parser.\u001b[39;00m\n\u001b[1;32m--> 577\u001b[0m parser \u001b[38;5;241m=\u001b[39m TextFileReader(filepath_or_buffer, \u001b[38;5;241m*\u001b[39m\u001b[38;5;241m*\u001b[39mkwds)\n\u001b[0;32m    579\u001b[0m \u001b[38;5;28;01mif\u001b[39;00m chunksize \u001b[38;5;129;01mor\u001b[39;00m iterator:\n\u001b[0;32m    580\u001b[0m     \u001b[38;5;28;01mreturn\u001b[39;00m parser\n",
      "File \u001b[1;32m~\\.julia\\conda\\3\\x86_64\\lib\\site-packages\\pandas\\io\\parsers\\readers.py:1407\u001b[0m, in \u001b[0;36mTextFileReader.__init__\u001b[1;34m(self, f, engine, **kwds)\u001b[0m\n\u001b[0;32m   1404\u001b[0m     \u001b[38;5;28mself\u001b[39m\u001b[38;5;241m.\u001b[39moptions[\u001b[38;5;124m\"\u001b[39m\u001b[38;5;124mhas_index_names\u001b[39m\u001b[38;5;124m\"\u001b[39m] \u001b[38;5;241m=\u001b[39m kwds[\u001b[38;5;124m\"\u001b[39m\u001b[38;5;124mhas_index_names\u001b[39m\u001b[38;5;124m\"\u001b[39m]\n\u001b[0;32m   1406\u001b[0m \u001b[38;5;28mself\u001b[39m\u001b[38;5;241m.\u001b[39mhandles: IOHandles \u001b[38;5;241m|\u001b[39m \u001b[38;5;28;01mNone\u001b[39;00m \u001b[38;5;241m=\u001b[39m \u001b[38;5;28;01mNone\u001b[39;00m\n\u001b[1;32m-> 1407\u001b[0m \u001b[38;5;28mself\u001b[39m\u001b[38;5;241m.\u001b[39m_engine \u001b[38;5;241m=\u001b[39m \u001b[38;5;28;43mself\u001b[39;49m\u001b[38;5;241;43m.\u001b[39;49m\u001b[43m_make_engine\u001b[49m\u001b[43m(\u001b[49m\u001b[43mf\u001b[49m\u001b[43m,\u001b[49m\u001b[43m \u001b[49m\u001b[38;5;28;43mself\u001b[39;49m\u001b[38;5;241;43m.\u001b[39;49m\u001b[43mengine\u001b[49m\u001b[43m)\u001b[49m\n",
      "File \u001b[1;32m~\\.julia\\conda\\3\\x86_64\\lib\\site-packages\\pandas\\io\\parsers\\readers.py:1661\u001b[0m, in \u001b[0;36mTextFileReader._make_engine\u001b[1;34m(self, f, engine)\u001b[0m\n\u001b[0;32m   1659\u001b[0m     \u001b[38;5;28;01mif\u001b[39;00m \u001b[38;5;124m\"\u001b[39m\u001b[38;5;124mb\u001b[39m\u001b[38;5;124m\"\u001b[39m \u001b[38;5;129;01mnot\u001b[39;00m \u001b[38;5;129;01min\u001b[39;00m mode:\n\u001b[0;32m   1660\u001b[0m         mode \u001b[38;5;241m+\u001b[39m\u001b[38;5;241m=\u001b[39m \u001b[38;5;124m\"\u001b[39m\u001b[38;5;124mb\u001b[39m\u001b[38;5;124m\"\u001b[39m\n\u001b[1;32m-> 1661\u001b[0m \u001b[38;5;28mself\u001b[39m\u001b[38;5;241m.\u001b[39mhandles \u001b[38;5;241m=\u001b[39m \u001b[43mget_handle\u001b[49m\u001b[43m(\u001b[49m\n\u001b[0;32m   1662\u001b[0m \u001b[43m    \u001b[49m\u001b[43mf\u001b[49m\u001b[43m,\u001b[49m\n\u001b[0;32m   1663\u001b[0m \u001b[43m    \u001b[49m\u001b[43mmode\u001b[49m\u001b[43m,\u001b[49m\n\u001b[0;32m   1664\u001b[0m \u001b[43m    \u001b[49m\u001b[43mencoding\u001b[49m\u001b[38;5;241;43m=\u001b[39;49m\u001b[38;5;28;43mself\u001b[39;49m\u001b[38;5;241;43m.\u001b[39;49m\u001b[43moptions\u001b[49m\u001b[38;5;241;43m.\u001b[39;49m\u001b[43mget\u001b[49m\u001b[43m(\u001b[49m\u001b[38;5;124;43m\"\u001b[39;49m\u001b[38;5;124;43mencoding\u001b[39;49m\u001b[38;5;124;43m\"\u001b[39;49m\u001b[43m,\u001b[49m\u001b[43m \u001b[49m\u001b[38;5;28;43;01mNone\u001b[39;49;00m\u001b[43m)\u001b[49m\u001b[43m,\u001b[49m\n\u001b[0;32m   1665\u001b[0m \u001b[43m    \u001b[49m\u001b[43mcompression\u001b[49m\u001b[38;5;241;43m=\u001b[39;49m\u001b[38;5;28;43mself\u001b[39;49m\u001b[38;5;241;43m.\u001b[39;49m\u001b[43moptions\u001b[49m\u001b[38;5;241;43m.\u001b[39;49m\u001b[43mget\u001b[49m\u001b[43m(\u001b[49m\u001b[38;5;124;43m\"\u001b[39;49m\u001b[38;5;124;43mcompression\u001b[39;49m\u001b[38;5;124;43m\"\u001b[39;49m\u001b[43m,\u001b[49m\u001b[43m \u001b[49m\u001b[38;5;28;43;01mNone\u001b[39;49;00m\u001b[43m)\u001b[49m\u001b[43m,\u001b[49m\n\u001b[0;32m   1666\u001b[0m \u001b[43m    \u001b[49m\u001b[43mmemory_map\u001b[49m\u001b[38;5;241;43m=\u001b[39;49m\u001b[38;5;28;43mself\u001b[39;49m\u001b[38;5;241;43m.\u001b[39;49m\u001b[43moptions\u001b[49m\u001b[38;5;241;43m.\u001b[39;49m\u001b[43mget\u001b[49m\u001b[43m(\u001b[49m\u001b[38;5;124;43m\"\u001b[39;49m\u001b[38;5;124;43mmemory_map\u001b[39;49m\u001b[38;5;124;43m\"\u001b[39;49m\u001b[43m,\u001b[49m\u001b[43m \u001b[49m\u001b[38;5;28;43;01mFalse\u001b[39;49;00m\u001b[43m)\u001b[49m\u001b[43m,\u001b[49m\n\u001b[0;32m   1667\u001b[0m \u001b[43m    \u001b[49m\u001b[43mis_text\u001b[49m\u001b[38;5;241;43m=\u001b[39;49m\u001b[43mis_text\u001b[49m\u001b[43m,\u001b[49m\n\u001b[0;32m   1668\u001b[0m \u001b[43m    \u001b[49m\u001b[43merrors\u001b[49m\u001b[38;5;241;43m=\u001b[39;49m\u001b[38;5;28;43mself\u001b[39;49m\u001b[38;5;241;43m.\u001b[39;49m\u001b[43moptions\u001b[49m\u001b[38;5;241;43m.\u001b[39;49m\u001b[43mget\u001b[49m\u001b[43m(\u001b[49m\u001b[38;5;124;43m\"\u001b[39;49m\u001b[38;5;124;43mencoding_errors\u001b[39;49m\u001b[38;5;124;43m\"\u001b[39;49m\u001b[43m,\u001b[49m\u001b[43m \u001b[49m\u001b[38;5;124;43m\"\u001b[39;49m\u001b[38;5;124;43mstrict\u001b[39;49m\u001b[38;5;124;43m\"\u001b[39;49m\u001b[43m)\u001b[49m\u001b[43m,\u001b[49m\n\u001b[0;32m   1669\u001b[0m \u001b[43m    \u001b[49m\u001b[43mstorage_options\u001b[49m\u001b[38;5;241;43m=\u001b[39;49m\u001b[38;5;28;43mself\u001b[39;49m\u001b[38;5;241;43m.\u001b[39;49m\u001b[43moptions\u001b[49m\u001b[38;5;241;43m.\u001b[39;49m\u001b[43mget\u001b[49m\u001b[43m(\u001b[49m\u001b[38;5;124;43m\"\u001b[39;49m\u001b[38;5;124;43mstorage_options\u001b[39;49m\u001b[38;5;124;43m\"\u001b[39;49m\u001b[43m,\u001b[49m\u001b[43m \u001b[49m\u001b[38;5;28;43;01mNone\u001b[39;49;00m\u001b[43m)\u001b[49m\u001b[43m,\u001b[49m\n\u001b[0;32m   1670\u001b[0m \u001b[43m\u001b[49m\u001b[43m)\u001b[49m\n\u001b[0;32m   1671\u001b[0m \u001b[38;5;28;01massert\u001b[39;00m \u001b[38;5;28mself\u001b[39m\u001b[38;5;241m.\u001b[39mhandles \u001b[38;5;129;01mis\u001b[39;00m \u001b[38;5;129;01mnot\u001b[39;00m \u001b[38;5;28;01mNone\u001b[39;00m\n\u001b[0;32m   1672\u001b[0m f \u001b[38;5;241m=\u001b[39m \u001b[38;5;28mself\u001b[39m\u001b[38;5;241m.\u001b[39mhandles\u001b[38;5;241m.\u001b[39mhandle\n",
      "File \u001b[1;32m~\\.julia\\conda\\3\\x86_64\\lib\\site-packages\\pandas\\io\\common.py:859\u001b[0m, in \u001b[0;36mget_handle\u001b[1;34m(path_or_buf, mode, encoding, compression, memory_map, is_text, errors, storage_options)\u001b[0m\n\u001b[0;32m    854\u001b[0m \u001b[38;5;28;01melif\u001b[39;00m \u001b[38;5;28misinstance\u001b[39m(handle, \u001b[38;5;28mstr\u001b[39m):\n\u001b[0;32m    855\u001b[0m     \u001b[38;5;66;03m# Check whether the filename is to be opened in binary mode.\u001b[39;00m\n\u001b[0;32m    856\u001b[0m     \u001b[38;5;66;03m# Binary mode does not support 'encoding' and 'newline'.\u001b[39;00m\n\u001b[0;32m    857\u001b[0m     \u001b[38;5;28;01mif\u001b[39;00m ioargs\u001b[38;5;241m.\u001b[39mencoding \u001b[38;5;129;01mand\u001b[39;00m \u001b[38;5;124m\"\u001b[39m\u001b[38;5;124mb\u001b[39m\u001b[38;5;124m\"\u001b[39m \u001b[38;5;129;01mnot\u001b[39;00m \u001b[38;5;129;01min\u001b[39;00m ioargs\u001b[38;5;241m.\u001b[39mmode:\n\u001b[0;32m    858\u001b[0m         \u001b[38;5;66;03m# Encoding\u001b[39;00m\n\u001b[1;32m--> 859\u001b[0m         handle \u001b[38;5;241m=\u001b[39m \u001b[38;5;28;43mopen\u001b[39;49m\u001b[43m(\u001b[49m\n\u001b[0;32m    860\u001b[0m \u001b[43m            \u001b[49m\u001b[43mhandle\u001b[49m\u001b[43m,\u001b[49m\n\u001b[0;32m    861\u001b[0m \u001b[43m            \u001b[49m\u001b[43mioargs\u001b[49m\u001b[38;5;241;43m.\u001b[39;49m\u001b[43mmode\u001b[49m\u001b[43m,\u001b[49m\n\u001b[0;32m    862\u001b[0m \u001b[43m            \u001b[49m\u001b[43mencoding\u001b[49m\u001b[38;5;241;43m=\u001b[39;49m\u001b[43mioargs\u001b[49m\u001b[38;5;241;43m.\u001b[39;49m\u001b[43mencoding\u001b[49m\u001b[43m,\u001b[49m\n\u001b[0;32m    863\u001b[0m \u001b[43m            \u001b[49m\u001b[43merrors\u001b[49m\u001b[38;5;241;43m=\u001b[39;49m\u001b[43merrors\u001b[49m\u001b[43m,\u001b[49m\n\u001b[0;32m    864\u001b[0m \u001b[43m            \u001b[49m\u001b[43mnewline\u001b[49m\u001b[38;5;241;43m=\u001b[39;49m\u001b[38;5;124;43m\"\u001b[39;49m\u001b[38;5;124;43m\"\u001b[39;49m\u001b[43m,\u001b[49m\n\u001b[0;32m    865\u001b[0m \u001b[43m        \u001b[49m\u001b[43m)\u001b[49m\n\u001b[0;32m    866\u001b[0m     \u001b[38;5;28;01melse\u001b[39;00m:\n\u001b[0;32m    867\u001b[0m         \u001b[38;5;66;03m# Binary mode\u001b[39;00m\n\u001b[0;32m    868\u001b[0m         handle \u001b[38;5;241m=\u001b[39m \u001b[38;5;28mopen\u001b[39m(handle, ioargs\u001b[38;5;241m.\u001b[39mmode)\n",
      "\u001b[1;31mFileNotFoundError\u001b[0m: [Errno 2] No such file or directory: 'C:/Python/pyb_data/AH_Monthly_Provisional_Counts_of_Deaths_for_Select_Causes_of_Death_by_Sex_Age_and_Race_and_Hispanic_Origin.csv'"
     ]
    }
   ],
   "source": [
    "# LINK TO GITHUB REPOSITORY: https://github.com/KismetnCo/YSPPyProj\n",
    "import numpy as np\n",
    "import pandas as pd\n",
    "import matplotlib.pyplot as plt\n",
    "# now import data\n",
    "ahData = pd.read_csv(\"C:/Python/pyb_data/AH_Monthly_Provisional_Counts_of_Deaths_for_Select_Causes_of_Death_by_Sex_Age_and_Race_and_Hispanic_Origin.csv\", delimiter = \",\")\n",
    "ccData = pd.read_csv(\"C:/Python/pyb_data/New_York_Leading_Causes_of_Death.csv\", delimiter = \",\")\n",
    "\n",
    "# NOTE: THIS WAS ORIGINALLY DONE IN A .py FILE- ALL DATA SETS ARE ON COMPUTER (it doesn't like me putting files in here)\n",
    "# IT SAYS THE FILES DONT EXIST BUT IT IS LYING\n",
    "# LINKS TO DATA ARE PROVIDED IN GITHUB REPOSITORY, REPASTED HERE\n",
    "# AHDATA: https://catalog.data.gov/dataset/AH_Monthly_Provisional_Counts_of_Deaths_for_Select_Causes_of_Death_by_Sex__Age__and_Race_and_Hispanic_Origin\n",
    "# NYDATA: https://catalog.data.gov/dataset/New_York_City_Leading_Causes_of_Death"
   ]
  },
  {
   "cell_type": "code",
   "execution_count": 5,
   "id": "1d5b14b4-4f39-41d7-ab5e-e680a22b98c6",
   "metadata": {},
   "outputs": [
    {
     "ename": "NameError",
     "evalue": "name 'ahdata' is not defined",
     "output_type": "error",
     "traceback": [
      "\u001b[1;31m---------------------------------------------------------------------------\u001b[0m",
      "\u001b[1;31mNameError\u001b[0m                                 Traceback (most recent call last)",
      "Cell \u001b[1;32mIn[5], line 3\u001b[0m\n\u001b[0;32m      1\u001b[0m \u001b[38;5;66;03m# AHDATA\u001b[39;00m\n\u001b[0;32m      2\u001b[0m \u001b[38;5;66;03m# get sums of total deaths (by sex) of ahdata\u001b[39;00m\n\u001b[1;32m----> 3\u001b[0m ahFAC \u001b[38;5;241m=\u001b[39m pd\u001b[38;5;241m.\u001b[39mto_numeric(\u001b[43mahdata\u001b[49m\u001b[38;5;241m.\u001b[39mquery(\u001b[38;5;124m\"\u001b[39m\u001b[38;5;124mSex == \u001b[39m\u001b[38;5;124m'\u001b[39m\u001b[38;5;124mF\u001b[39m\u001b[38;5;124m'\u001b[39m\u001b[38;5;124m\"\u001b[39m)[\u001b[38;5;124m\"\u001b[39m\u001b[38;5;124mAllCause\u001b[39m\u001b[38;5;124m\"\u001b[39m])\u001b[38;5;241m.\u001b[39msum()\n\u001b[0;32m      4\u001b[0m ahMAC \u001b[38;5;241m=\u001b[39m pd\u001b[38;5;241m.\u001b[39mto_numeric(ahdata\u001b[38;5;241m.\u001b[39mquery(\u001b[38;5;124m\"\u001b[39m\u001b[38;5;124mSex == \u001b[39m\u001b[38;5;124m'\u001b[39m\u001b[38;5;124mM\u001b[39m\u001b[38;5;124m'\u001b[39m\u001b[38;5;124m\"\u001b[39m)[\u001b[38;5;124m\"\u001b[39m\u001b[38;5;124mAllCause\u001b[39m\u001b[38;5;124m\"\u001b[39m])\u001b[38;5;241m.\u001b[39msum()\n\u001b[0;32m      6\u001b[0m \u001b[38;5;66;03m# check if it worked - success (uncommented for review)\u001b[39;00m\n",
      "\u001b[1;31mNameError\u001b[0m: name 'ahdata' is not defined"
     ]
    }
   ],
   "source": [
    "# AHDATA\n",
    "# get sums of total deaths (by sex) of ahdata\n",
    "ahFAC = pd.to_numeric(ahdata.query(\"Sex == 'F'\")[\"AllCause\"]).sum()\n",
    "ahMAC = pd.to_numeric(ahdata.query(\"Sex == 'M'\")[\"AllCause\"]).sum()\n",
    "\n",
    "# check if it worked - success (uncommented for review)\n",
    "print(ahFAC)\n",
    "print(ahMAC)\n",
    "\n",
    "# list it\n",
    "ahACbySex = {\"Female\":ahFAC, \"Male\":ahMAC}\n",
    "ahTAC = list(ahACbySex.values())\n",
    "ahS = list(ahACbySex.keys())\n",
    "\n",
    "# neat now barchart that\n",
    "# i'm commenting this out before because i dont want to see this load every time i run the code (uncommented for review)\n",
    "\n",
    "\n",
    "fig = plt.figure(figsize = (10, 5))\n",
    "plt.bar(ahS, ahTAC, color='blue', width=0.4)\n",
    "plt.xlabel(\"Sex\")\n",
    "plt.ylabel(\"Number of Fatalities in Millions (All Causes)\")\n",
    "plt.title(\"Number of Deaths by Sex (All Causes) - AH\")\n",
    "plt.show()"
   ]
  },
  {
   "cell_type": "markdown",
   "id": "52fbb3ce-9cff-4325-8447-a9ec1f29f2e0",
   "metadata": {},
   "source": [
    "This dataset has more logs for Males than Females, so we're going to be treating it as percents for general distributions\n",
    "as in \"x% of females and y% of males represented by this dataset died of the plague\" for each of the data sets\n",
    "\"so we can conclude that <insert sex here> are on average z-times more likely to die of the plague\"\n",
    "^ an example (the plague isn't actually represented here + we're doing it by zone/type of affliction) "
   ]
  },
  {
   "cell_type": "markdown",
   "id": "f7ff0678-6f0f-4fd7-8919-efbbcf6a7248",
   "metadata": {},
   "source": [
    "we're going to do the same thing but with respiratory afflictions\n",
    "that's p, q, r on excel, or 15-17 with indexing\n",
    "includes influenza + pneumonia + chronic lower respiratory diseases\n",
    "and other respiratory diseases\n",
    "individual listed ailments first though"
   ]
  },
  {
   "cell_type": "code",
   "execution_count": 6,
   "id": "52886ec0-7175-499b-b8ff-25bdba90f5a1",
   "metadata": {},
   "outputs": [
    {
     "ename": "NameError",
     "evalue": "name 'ahdata' is not defined",
     "output_type": "error",
     "traceback": [
      "\u001b[1;31m---------------------------------------------------------------------------\u001b[0m",
      "\u001b[1;31mNameError\u001b[0m                                 Traceback (most recent call last)",
      "Cell \u001b[1;32mIn[6], line 2\u001b[0m\n\u001b[0;32m      1\u001b[0m \u001b[38;5;66;03m# First: Influenza + pneumonia (column 16, indexed as 15)\u001b[39;00m\n\u001b[1;32m----> 2\u001b[0m ahFIP \u001b[38;5;241m=\u001b[39m pd\u001b[38;5;241m.\u001b[39mto_numeric(\u001b[43mahdata\u001b[49m\u001b[38;5;241m.\u001b[39mquery(\u001b[38;5;124m\"\u001b[39m\u001b[38;5;124mSex == \u001b[39m\u001b[38;5;124m'\u001b[39m\u001b[38;5;124mF\u001b[39m\u001b[38;5;124m'\u001b[39m\u001b[38;5;124m\"\u001b[39m)[\u001b[38;5;124m\"\u001b[39m\u001b[38;5;124mInfluenza and pneumonia (J09-J18)\u001b[39m\u001b[38;5;124m\"\u001b[39m])\u001b[38;5;241m.\u001b[39msum()\n\u001b[0;32m      3\u001b[0m ahMIP \u001b[38;5;241m=\u001b[39m pd\u001b[38;5;241m.\u001b[39mto_numeric(ahdata\u001b[38;5;241m.\u001b[39mquery(\u001b[38;5;124m\"\u001b[39m\u001b[38;5;124mSex == \u001b[39m\u001b[38;5;124m'\u001b[39m\u001b[38;5;124mM\u001b[39m\u001b[38;5;124m'\u001b[39m\u001b[38;5;124m\"\u001b[39m)[\u001b[38;5;124m\"\u001b[39m\u001b[38;5;124mInfluenza and pneumonia (J09-J18)\u001b[39m\u001b[38;5;124m\"\u001b[39m])\u001b[38;5;241m.\u001b[39msum()\n\u001b[0;32m      5\u001b[0m \u001b[38;5;66;03m#checking to see if it works - success (uncommented for review)\u001b[39;00m\n",
      "\u001b[1;31mNameError\u001b[0m: name 'ahdata' is not defined"
     ]
    }
   ],
   "source": [
    "# First: Influenza + pneumonia (column 16, indexed as 15)\n",
    "ahFIP = pd.to_numeric(ahdata.query(\"Sex == 'F'\")[\"Influenza and pneumonia (J09-J18)\"]).sum()\n",
    "ahMIP = pd.to_numeric(ahdata.query(\"Sex == 'M'\")[\"Influenza and pneumonia (J09-J18)\"]).sum()\n",
    "\n",
    "#checking to see if it works - success (uncommented for review)\n",
    "print(ahFIP)\n",
    "print(ahMIP)\n",
    "\n",
    "# make it a set for the graph\n",
    "ahIPbySex = {\"Female\": ahFIP, \"Male\": ahMIP}\n",
    "ahIP = list(ahIPbySex.values())\n",
    "ahSIP = list(ahIPbySex.keys())\n",
    "\n",
    "# get percents of total deaths due to influenza or pneumonia for comparison (uncommented prints for review)\n",
    "print(ahFIP/ahFAC)\n",
    "# = 0.01820240975371677 = ~ 1.82% of all female deaths in AHdata were influenza or pneumonia\n",
    "print(ahMIP/ahMAC)\n",
    "# = 0.01672162961756643 = ~ 1.67% of all male deaths in AHdata were influenza or pneumonia\n",
    "\n",
    "# now for % of IP total that were female, male (uncommented prints for review)\n",
    "ahIPT = (ahFIP + ahMIP)\n",
    "print(ahIPT)\n",
    "# = total I+P = 49782\n",
    "\n",
    "print(ahFIP/ahIPT)\n",
    "# = 0.5049817203005103  = ~ 50.50% of influenza + pneumonia deaths were female\n",
    "print(ahMIP/ahIPT)\n",
    "# = 0.49501827969948975 = ~ 49.50% of influenza + pneumonia deaths were female\n"
   ]
  },
  {
   "cell_type": "markdown",
   "id": "cb1fcc32-e1ec-4a03-b7d2-f4f023c49103",
   "metadata": {},
   "source": [
    "ANALYSIS: out of the total death count on behalf of influenza and pneumonia, according to AHdata, females are ~1% more likely to \n",
    "die of their ailment. Out of the total death count, ~0.15% more females died of I + P than males, suggesting that \n",
    "females are slightly more prone to fatalities on behalf of I + P, as well as that females are slightly more prone to fatality\n",
    "on behalf of of a respiratory disease. \n",
    "(Short version: 1% greater female mortality == 0.15% logged female population death uptick \n",
    "compared to total male stats; more females are likely to die of I + P than males, females are more likely to die if \n",
    "they contract I + P) "
   ]
  },
  {
   "cell_type": "code",
   "execution_count": 7,
   "id": "48b7e6eb-947f-4570-a568-013c9706ebd8",
   "metadata": {},
   "outputs": [
    {
     "ename": "NameError",
     "evalue": "name 'ahSIP' is not defined",
     "output_type": "error",
     "traceback": [
      "\u001b[1;31m---------------------------------------------------------------------------\u001b[0m",
      "\u001b[1;31mNameError\u001b[0m                                 Traceback (most recent call last)",
      "Cell \u001b[1;32mIn[7], line 4\u001b[0m\n\u001b[0;32m      1\u001b[0m \u001b[38;5;66;03m# bar plots woo + commenting it out because i don't want to see it right now (uncommented for review)\u001b[39;00m\n\u001b[0;32m      3\u001b[0m fig \u001b[38;5;241m=\u001b[39m plt\u001b[38;5;241m.\u001b[39mfigure(figsize \u001b[38;5;241m=\u001b[39m (\u001b[38;5;241m10\u001b[39m, \u001b[38;5;241m5\u001b[39m))\n\u001b[1;32m----> 4\u001b[0m plt\u001b[38;5;241m.\u001b[39mbar(\u001b[43mahSIP\u001b[49m, ahIP, color\u001b[38;5;241m=\u001b[39m\u001b[38;5;124m'\u001b[39m\u001b[38;5;124m#54EA9F\u001b[39m\u001b[38;5;124m'\u001b[39m, width\u001b[38;5;241m=\u001b[39m\u001b[38;5;241m0.4\u001b[39m)\n\u001b[0;32m      5\u001b[0m \u001b[38;5;66;03m# respiratory diseases are shades of green now\u001b[39;00m\n\u001b[0;32m      6\u001b[0m \u001b[38;5;66;03m# the colour of phlegm\u001b[39;00m\n\u001b[0;32m      7\u001b[0m plt\u001b[38;5;241m.\u001b[39mxlabel(\u001b[38;5;124m\"\u001b[39m\u001b[38;5;124mSex\u001b[39m\u001b[38;5;124m\"\u001b[39m)\n",
      "\u001b[1;31mNameError\u001b[0m: name 'ahSIP' is not defined"
     ]
    },
    {
     "data": {
      "text/plain": [
       "<Figure size 1000x500 with 0 Axes>"
      ]
     },
     "metadata": {},
     "output_type": "display_data"
    }
   ],
   "source": [
    "# bar plots woo + commenting it out because i don't want to see it right now (uncommented for review)\n",
    "\n",
    "fig = plt.figure(figsize = (10, 5))\n",
    "plt.bar(ahSIP, ahIP, color='#54EA9F', width=0.4)\n",
    "# respiratory diseases are shades of green now\n",
    "# the colour of phlegm\n",
    "plt.xlabel(\"Sex\")\n",
    "plt.ylabel(\"Number of Fatalities in Ten Thousands (Influenza and Pneumonia)\")\n",
    "plt.title(\"Number of Deaths by Sex (Influenza and Pneumonia) - AH\")\n",
    "plt.show()\n"
   ]
  },
  {
   "cell_type": "code",
   "execution_count": 8,
   "id": "8a2e1fbe-dae4-4cdc-9631-3312bd046974",
   "metadata": {},
   "outputs": [
    {
     "ename": "NameError",
     "evalue": "name 'ahdata' is not defined",
     "output_type": "error",
     "traceback": [
      "\u001b[1;31m---------------------------------------------------------------------------\u001b[0m",
      "\u001b[1;31mNameError\u001b[0m                                 Traceback (most recent call last)",
      "Cell \u001b[1;32mIn[8], line 2\u001b[0m\n\u001b[0;32m      1\u001b[0m \u001b[38;5;66;03m# now it's time to do that all over again for chronic lower respiratory disease\u001b[39;00m\n\u001b[1;32m----> 2\u001b[0m ahFCLRD \u001b[38;5;241m=\u001b[39m pd\u001b[38;5;241m.\u001b[39mto_numeric(\u001b[43mahdata\u001b[49m\u001b[38;5;241m.\u001b[39mquery(\u001b[38;5;124m\"\u001b[39m\u001b[38;5;124mSex == \u001b[39m\u001b[38;5;124m'\u001b[39m\u001b[38;5;124mF\u001b[39m\u001b[38;5;124m'\u001b[39m\u001b[38;5;124m\"\u001b[39m)[\u001b[38;5;124m\"\u001b[39m\u001b[38;5;124mChronic lower respiratory diseases (J40-J47)\u001b[39m\u001b[38;5;124m\"\u001b[39m])\u001b[38;5;241m.\u001b[39msum()\n\u001b[0;32m      3\u001b[0m ahMCLRD \u001b[38;5;241m=\u001b[39m pd\u001b[38;5;241m.\u001b[39mto_numeric(ahdata\u001b[38;5;241m.\u001b[39mquery(\u001b[38;5;124m\"\u001b[39m\u001b[38;5;124mSex == \u001b[39m\u001b[38;5;124m'\u001b[39m\u001b[38;5;124mM\u001b[39m\u001b[38;5;124m'\u001b[39m\u001b[38;5;124m\"\u001b[39m)[\u001b[38;5;124m\"\u001b[39m\u001b[38;5;124mChronic lower respiratory diseases (J40-J47)\u001b[39m\u001b[38;5;124m\"\u001b[39m])\u001b[38;5;241m.\u001b[39msum()\n\u001b[0;32m      4\u001b[0m \u001b[38;5;66;03m# checking to see if it works - success (uncommented for review)\u001b[39;00m\n",
      "\u001b[1;31mNameError\u001b[0m: name 'ahdata' is not defined"
     ]
    }
   ],
   "source": [
    "# now it's time to do that all over again for chronic lower respiratory disease\n",
    "ahFCLRD = pd.to_numeric(ahdata.query(\"Sex == 'F'\")[\"Chronic lower respiratory diseases (J40-J47)\"]).sum()\n",
    "ahMCLRD = pd.to_numeric(ahdata.query(\"Sex == 'M'\")[\"Chronic lower respiratory diseases (J40-J47)\"]).sum()\n",
    "# checking to see if it works - success (uncommented for review)\n",
    "print(ahFCLRD)\n",
    "print(ahMCLRD)\n",
    "\n",
    "# cool now percents out of total female, male populations and compare to percents of total CLRD population (uncommented prints for review)\n",
    "print(ahFCLRD/ahFAC)\n",
    "# = 0.06028322318615585  = ~ 6.03% of total female deaths in AHdata were CLRD\n",
    "print(ahMCLRD/ahMAC)\n",
    "# = 0.05002208622925303  = ~ 5.00% of total male deaths in AHdata were CLRD\n",
    "\n",
    "ahCLRDT = (ahFCLRD + ahMCLRD)  # (uncommented prints for review)\n",
    "print(ahCLRDT)\n",
    "# = total CLRD (156974)\n",
    "\n",
    "print(ahFCLRD/ahCLRDT)  # (uncommented prints for review)\n",
    "# = 0.5303617159529603  = ~ 53.04% of CLRDT deaths were female\n",
    "print(ahMCLRD/ahCLRDT)\n",
    "# = 0.4696382840470396  = ~ 46.96% of CLRDT deaths were male\n",
    "\n",
    "# woo more plotting (uncommented for review)\n",
    "ahCLRDbySex = {\"Female\": ahFCLRD, \"Male\": ahMCLRD}\n",
    "ahCLRD = list(ahCLRDbySex.values())\n",
    "ahSCLRD = list(ahCLRDbySex.keys())\n"
   ]
  },
  {
   "cell_type": "code",
   "execution_count": 10,
   "id": "089c1f28-d9bd-4944-9be7-7bcd90fdd09e",
   "metadata": {},
   "outputs": [
    {
     "ename": "NameError",
     "evalue": "name 'ahSCLRD' is not defined",
     "output_type": "error",
     "traceback": [
      "\u001b[1;31m---------------------------------------------------------------------------\u001b[0m",
      "\u001b[1;31mNameError\u001b[0m                                 Traceback (most recent call last)",
      "Cell \u001b[1;32mIn[10], line 3\u001b[0m\n\u001b[0;32m      1\u001b[0m \u001b[38;5;66;03m# plot CLRD\u001b[39;00m\n\u001b[0;32m      2\u001b[0m fig \u001b[38;5;241m=\u001b[39m plt\u001b[38;5;241m.\u001b[39mfigure(figsize \u001b[38;5;241m=\u001b[39m (\u001b[38;5;241m10\u001b[39m, \u001b[38;5;241m5\u001b[39m))\n\u001b[1;32m----> 3\u001b[0m plt\u001b[38;5;241m.\u001b[39mbar(\u001b[43mahSCLRD\u001b[49m, ahCLRD, color\u001b[38;5;241m=\u001b[39m\u001b[38;5;124m'\u001b[39m\u001b[38;5;124m#2A9E64\u001b[39m\u001b[38;5;124m'\u001b[39m, width\u001b[38;5;241m=\u001b[39m\u001b[38;5;241m0.4\u001b[39m)\n\u001b[0;32m      4\u001b[0m plt\u001b[38;5;241m.\u001b[39mxlabel(\u001b[38;5;124m\"\u001b[39m\u001b[38;5;124mSex\u001b[39m\u001b[38;5;124m\"\u001b[39m)\n\u001b[0;32m      5\u001b[0m plt\u001b[38;5;241m.\u001b[39mylabel(\u001b[38;5;124m\"\u001b[39m\u001b[38;5;124mNumber of Fatalities in Ten Thousands (Chronic Lower Respiratory Disease)\u001b[39m\u001b[38;5;124m\"\u001b[39m)\n",
      "\u001b[1;31mNameError\u001b[0m: name 'ahSCLRD' is not defined"
     ]
    },
    {
     "data": {
      "text/plain": [
       "<Figure size 1000x500 with 0 Axes>"
      ]
     },
     "metadata": {},
     "output_type": "display_data"
    }
   ],
   "source": [
    "# plot CLRD\n",
    "fig = plt.figure(figsize = (10, 5))\n",
    "plt.bar(ahSCLRD, ahCLRD, color='#2A9E64', width=0.4)\n",
    "plt.xlabel(\"Sex\")\n",
    "plt.ylabel(\"Number of Fatalities in Ten Thousands (Chronic Lower Respiratory Disease)\")\n",
    "plt.title(\"Number of Deaths by Sex (Chronic Lower Respiratory Disease) - AH\")\n",
    "plt.show()"
   ]
  },
  {
   "cell_type": "code",
   "execution_count": null,
   "id": "a21fdb75-4d2c-4ac4-ab7c-a9016affa920",
   "metadata": {},
   "outputs": [],
   "source": [
    "# NYDATA\n",
    "#right so I'm going to cut that bit short because i want to compare it to the other data set(s)\n",
    "\n",
    "'''\n",
    "this is going to be for the NYC data set- again percentages so i can compare influenza/pneumonia rates\n",
    "if they dont have both to compare to i'm just maxing out the respiratory disease column and comparing totals\n",
    "'''\n",
    "\n",
    "'''\n",
    "nevermind im impatient and this is taking forever to load -- ( commented out for lack of effect )\n",
    "nyFAC = pd.to_numeric(nydata.query(\"Sex == 'F'\")[\"Deaths\"]).sum()\n",
    "nyMAC = pd.to_numeric(nydata.query(\"Sex == 'M'\")[\"Deaths\"]).sum()\n",
    "print(nyFAC)\n",
    "print(nyMAC)\n",
    "'''\n",
    "\n",
    "# thus far WIP because i got sleepytired :P"
   ]
  }
 ],
 "metadata": {
  "kernelspec": {
   "display_name": "Python 3 (ipykernel)",
   "language": "python",
   "name": "python3"
  },
  "language_info": {
   "codemirror_mode": {
    "name": "ipython",
    "version": 3
   },
   "file_extension": ".py",
   "mimetype": "text/x-python",
   "name": "python",
   "nbconvert_exporter": "python",
   "pygments_lexer": "ipython3",
   "version": "3.10.10"
  }
 },
 "nbformat": 4,
 "nbformat_minor": 5
}
